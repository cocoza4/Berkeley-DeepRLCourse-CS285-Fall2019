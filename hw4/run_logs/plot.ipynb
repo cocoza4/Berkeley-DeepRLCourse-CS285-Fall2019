{
 "cells": [
  {
   "cell_type": "code",
   "execution_count": 1,
   "metadata": {},
   "outputs": [],
   "source": [
    "import pandas as pd\n",
    "import seaborn as sns\n",
    "from pathlib import Path"
   ]
  },
  {
   "cell_type": "code",
   "execution_count": null,
   "metadata": {},
   "outputs": [],
   "source": []
  },
  {
   "cell_type": "code",
   "execution_count": 2,
   "metadata": {},
   "outputs": [],
   "source": [
    "base_path = Path('.')"
   ]
  },
  {
   "cell_type": "code",
   "execution_count": null,
   "metadata": {},
   "outputs": [],
   "source": []
  },
  {
   "cell_type": "markdown",
   "metadata": {},
   "source": [
    "# Question 2"
   ]
  },
  {
   "cell_type": "code",
   "execution_count": 3,
   "metadata": {},
   "outputs": [
    {
     "data": {
      "text/html": [
       "<div>\n",
       "<style scoped>\n",
       "    .dataframe tbody tr th:only-of-type {\n",
       "        vertical-align: middle;\n",
       "    }\n",
       "\n",
       "    .dataframe tbody tr th {\n",
       "        vertical-align: top;\n",
       "    }\n",
       "\n",
       "    .dataframe thead th {\n",
       "        text-align: right;\n",
       "    }\n",
       "</style>\n",
       "<table border=\"1\" class=\"dataframe\">\n",
       "  <thead>\n",
       "    <tr style=\"text-align: right;\">\n",
       "      <th></th>\n",
       "      <th>Wall time</th>\n",
       "      <th>Step</th>\n",
       "      <th>Value</th>\n",
       "      <th>Type</th>\n",
       "    </tr>\n",
       "  </thead>\n",
       "  <tbody>\n",
       "    <tr>\n",
       "      <th>0</th>\n",
       "      <td>1.605625e+09</td>\n",
       "      <td>0</td>\n",
       "      <td>-167.098572</td>\n",
       "      <td>Train</td>\n",
       "    </tr>\n",
       "  </tbody>\n",
       "</table>\n",
       "</div>"
      ],
      "text/plain": [
       "      Wall time  Step       Value   Type\n",
       "0  1.605625e+09     0 -167.098572  Train"
      ]
     },
     "execution_count": 3,
     "metadata": {},
     "output_type": "execute_result"
    }
   ],
   "source": [
    "df_train = pd.read_csv(base_path/'run-obstacles_singleiteration_obstacles-tag-Train_AverageReturn.csv')\n",
    "df_train['Type'] = 'Train'\n",
    "df_train"
   ]
  },
  {
   "cell_type": "code",
   "execution_count": 4,
   "metadata": {},
   "outputs": [
    {
     "data": {
      "text/html": [
       "<div>\n",
       "<style scoped>\n",
       "    .dataframe tbody tr th:only-of-type {\n",
       "        vertical-align: middle;\n",
       "    }\n",
       "\n",
       "    .dataframe tbody tr th {\n",
       "        vertical-align: top;\n",
       "    }\n",
       "\n",
       "    .dataframe thead th {\n",
       "        text-align: right;\n",
       "    }\n",
       "</style>\n",
       "<table border=\"1\" class=\"dataframe\">\n",
       "  <thead>\n",
       "    <tr style=\"text-align: right;\">\n",
       "      <th></th>\n",
       "      <th>Wall time</th>\n",
       "      <th>Step</th>\n",
       "      <th>Value</th>\n",
       "      <th>Type</th>\n",
       "    </tr>\n",
       "  </thead>\n",
       "  <tbody>\n",
       "    <tr>\n",
       "      <th>0</th>\n",
       "      <td>1.605625e+09</td>\n",
       "      <td>0</td>\n",
       "      <td>-22.467747</td>\n",
       "      <td>Eval</td>\n",
       "    </tr>\n",
       "  </tbody>\n",
       "</table>\n",
       "</div>"
      ],
      "text/plain": [
       "      Wall time  Step      Value  Type\n",
       "0  1.605625e+09     0 -22.467747  Eval"
      ]
     },
     "execution_count": 4,
     "metadata": {},
     "output_type": "execute_result"
    }
   ],
   "source": [
    "df_eval= pd.read_csv(base_path/'run-obstacles_singleiteration_obstacles-tag-Eval_AverageReturn.csv')\n",
    "df_eval['Type'] = 'Eval'\n",
    "df_eval"
   ]
  },
  {
   "cell_type": "code",
   "execution_count": 5,
   "metadata": {},
   "outputs": [
    {
     "data": {
      "text/html": [
       "<div>\n",
       "<style scoped>\n",
       "    .dataframe tbody tr th:only-of-type {\n",
       "        vertical-align: middle;\n",
       "    }\n",
       "\n",
       "    .dataframe tbody tr th {\n",
       "        vertical-align: top;\n",
       "    }\n",
       "\n",
       "    .dataframe thead th {\n",
       "        text-align: right;\n",
       "    }\n",
       "</style>\n",
       "<table border=\"1\" class=\"dataframe\">\n",
       "  <thead>\n",
       "    <tr style=\"text-align: right;\">\n",
       "      <th></th>\n",
       "      <th>Wall time</th>\n",
       "      <th>Step</th>\n",
       "      <th>Value</th>\n",
       "      <th>Type</th>\n",
       "    </tr>\n",
       "  </thead>\n",
       "  <tbody>\n",
       "    <tr>\n",
       "      <th>0</th>\n",
       "      <td>1.605625e+09</td>\n",
       "      <td>0</td>\n",
       "      <td>-167.098572</td>\n",
       "      <td>Train</td>\n",
       "    </tr>\n",
       "    <tr>\n",
       "      <th>0</th>\n",
       "      <td>1.605625e+09</td>\n",
       "      <td>0</td>\n",
       "      <td>-22.467747</td>\n",
       "      <td>Eval</td>\n",
       "    </tr>\n",
       "  </tbody>\n",
       "</table>\n",
       "</div>"
      ],
      "text/plain": [
       "      Wall time  Step       Value   Type\n",
       "0  1.605625e+09     0 -167.098572  Train\n",
       "0  1.605625e+09     0  -22.467747   Eval"
      ]
     },
     "execution_count": 5,
     "metadata": {},
     "output_type": "execute_result"
    }
   ],
   "source": [
    "df = pd.concat([df_train, df_eval])\n",
    "df"
   ]
  },
  {
   "cell_type": "code",
   "execution_count": 6,
   "metadata": {},
   "outputs": [
    {
     "data": {
      "text/plain": [
       "<matplotlib.axes._subplots.AxesSubplot at 0x7f7427550fa0>"
      ]
     },
     "execution_count": 6,
     "metadata": {},
     "output_type": "execute_result"
    },
    {
     "data": {
      "image/png": "[encoded data removed]",
      "text/plain": [
       "<Figure size 432x288 with 1 Axes>"
      ]
     },
     "metadata": {
      "needs_background": "light"
     },
     "output_type": "display_data"
    }
   ],
   "source": [
    "sns.scatterplot(x='Step', y='Value', hue='Type', data=df)"
   ]
  },
  {
   "cell_type": "code",
   "execution_count": null,
   "metadata": {},
   "outputs": [],
   "source": []
  },
  {
   "cell_type": "markdown",
   "metadata": {},
   "source": [
    "# Question 4"
   ]
  },
  {
   "cell_type": "code",
   "execution_count": 8,
   "metadata": {},
   "outputs": [
    {
     "data": {
      "text/html": [
       "<div>\n",
       "<style scoped>\n",
       "    .dataframe tbody tr th:only-of-type {\n",
       "        vertical-align: middle;\n",
       "    }\n",
       "\n",
       "    .dataframe tbody tr th {\n",
       "        vertical-align: top;\n",
       "    }\n",
       "\n",
       "    .dataframe thead th {\n",
       "        text-align: right;\n",
       "    }\n",
       "</style>\n",
       "<table border=\"1\" class=\"dataframe\">\n",
       "  <thead>\n",
       "    <tr style=\"text-align: right;\">\n",
       "      <th></th>\n",
       "      <th>Wall time</th>\n",
       "      <th>Step</th>\n",
       "      <th>Value</th>\n",
       "      <th>Type</th>\n",
       "    </tr>\n",
       "  </thead>\n",
       "  <tbody>\n",
       "    <tr>\n",
       "      <th>0</th>\n",
       "      <td>1.605679e+09</td>\n",
       "      <td>0</td>\n",
       "      <td>-466.865295</td>\n",
       "      <td>horizon5</td>\n",
       "    </tr>\n",
       "    <tr>\n",
       "      <th>1</th>\n",
       "      <td>1.605679e+09</td>\n",
       "      <td>1</td>\n",
       "      <td>-348.830200</td>\n",
       "      <td>horizon5</td>\n",
       "    </tr>\n",
       "    <tr>\n",
       "      <th>2</th>\n",
       "      <td>1.605680e+09</td>\n",
       "      <td>2</td>\n",
       "      <td>-267.821655</td>\n",
       "      <td>horizon5</td>\n",
       "    </tr>\n",
       "    <tr>\n",
       "      <th>3</th>\n",
       "      <td>1.605680e+09</td>\n",
       "      <td>3</td>\n",
       "      <td>-305.282104</td>\n",
       "      <td>horizon5</td>\n",
       "    </tr>\n",
       "    <tr>\n",
       "      <th>4</th>\n",
       "      <td>1.605680e+09</td>\n",
       "      <td>4</td>\n",
       "      <td>-306.790100</td>\n",
       "      <td>horizon5</td>\n",
       "    </tr>\n",
       "  </tbody>\n",
       "</table>\n",
       "</div>"
      ],
      "text/plain": [
       "      Wall time  Step       Value      Type\n",
       "0  1.605679e+09     0 -466.865295  horizon5\n",
       "1  1.605679e+09     1 -348.830200  horizon5\n",
       "2  1.605680e+09     2 -267.821655  horizon5\n",
       "3  1.605680e+09     3 -305.282104  horizon5\n",
       "4  1.605680e+09     4 -306.790100  horizon5"
      ]
     },
     "execution_count": 8,
     "metadata": {},
     "output_type": "execute_result"
    }
   ],
   "source": [
    "df_h5 = pd.read_csv(base_path/'run-reacher_horizon5-tag-Eval_AverageReturn.csv')\n",
    "df_h5['Type'] = 'horizon5'\n",
    "df_h5.head()"
   ]
  },
  {
   "cell_type": "code",
   "execution_count": 9,
   "metadata": {},
   "outputs": [
    {
     "data": {
      "text/html": [
       "<div>\n",
       "<style scoped>\n",
       "    .dataframe tbody tr th:only-of-type {\n",
       "        vertical-align: middle;\n",
       "    }\n",
       "\n",
       "    .dataframe tbody tr th {\n",
       "        vertical-align: top;\n",
       "    }\n",
       "\n",
       "    .dataframe thead th {\n",
       "        text-align: right;\n",
       "    }\n",
       "</style>\n",
       "<table border=\"1\" class=\"dataframe\">\n",
       "  <thead>\n",
       "    <tr style=\"text-align: right;\">\n",
       "      <th></th>\n",
       "      <th>Wall time</th>\n",
       "      <th>Step</th>\n",
       "      <th>Value</th>\n",
       "      <th>Type</th>\n",
       "    </tr>\n",
       "  </thead>\n",
       "  <tbody>\n",
       "    <tr>\n",
       "      <th>0</th>\n",
       "      <td>1.605686e+09</td>\n",
       "      <td>0</td>\n",
       "      <td>-369.021271</td>\n",
       "      <td>horizon15</td>\n",
       "    </tr>\n",
       "    <tr>\n",
       "      <th>1</th>\n",
       "      <td>1.605686e+09</td>\n",
       "      <td>1</td>\n",
       "      <td>-300.226013</td>\n",
       "      <td>horizon15</td>\n",
       "    </tr>\n",
       "    <tr>\n",
       "      <th>2</th>\n",
       "      <td>1.605687e+09</td>\n",
       "      <td>2</td>\n",
       "      <td>-291.797852</td>\n",
       "      <td>horizon15</td>\n",
       "    </tr>\n",
       "    <tr>\n",
       "      <th>3</th>\n",
       "      <td>1.605687e+09</td>\n",
       "      <td>3</td>\n",
       "      <td>-302.283875</td>\n",
       "      <td>horizon15</td>\n",
       "    </tr>\n",
       "    <tr>\n",
       "      <th>4</th>\n",
       "      <td>1.605687e+09</td>\n",
       "      <td>4</td>\n",
       "      <td>-282.086578</td>\n",
       "      <td>horizon15</td>\n",
       "    </tr>\n",
       "  </tbody>\n",
       "</table>\n",
       "</div>"
      ],
      "text/plain": [
       "      Wall time  Step       Value       Type\n",
       "0  1.605686e+09     0 -369.021271  horizon15\n",
       "1  1.605686e+09     1 -300.226013  horizon15\n",
       "2  1.605687e+09     2 -291.797852  horizon15\n",
       "3  1.605687e+09     3 -302.283875  horizon15\n",
       "4  1.605687e+09     4 -282.086578  horizon15"
      ]
     },
     "execution_count": 9,
     "metadata": {},
     "output_type": "execute_result"
    }
   ],
   "source": [
    "df_h15 = pd.read_csv(base_path/'run-reacher_horizon15-tag-Eval_AverageReturn.csv')\n",
    "df_h15['Type'] = 'horizon15'\n",
    "df_h15.head()"
   ]
  },
  {
   "cell_type": "code",
   "execution_count": 10,
   "metadata": {},
   "outputs": [
    {
     "data": {
      "text/html": [
       "<div>\n",
       "<style scoped>\n",
       "    .dataframe tbody tr th:only-of-type {\n",
       "        vertical-align: middle;\n",
       "    }\n",
       "\n",
       "    .dataframe tbody tr th {\n",
       "        vertical-align: top;\n",
       "    }\n",
       "\n",
       "    .dataframe thead th {\n",
       "        text-align: right;\n",
       "    }\n",
       "</style>\n",
       "<table border=\"1\" class=\"dataframe\">\n",
       "  <thead>\n",
       "    <tr style=\"text-align: right;\">\n",
       "      <th></th>\n",
       "      <th>Wall time</th>\n",
       "      <th>Step</th>\n",
       "      <th>Value</th>\n",
       "      <th>Type</th>\n",
       "    </tr>\n",
       "  </thead>\n",
       "  <tbody>\n",
       "    <tr>\n",
       "      <th>0</th>\n",
       "      <td>1.605690e+09</td>\n",
       "      <td>0</td>\n",
       "      <td>-480.370026</td>\n",
       "      <td>horizon30</td>\n",
       "    </tr>\n",
       "    <tr>\n",
       "      <th>1</th>\n",
       "      <td>1.605691e+09</td>\n",
       "      <td>1</td>\n",
       "      <td>-352.455231</td>\n",
       "      <td>horizon30</td>\n",
       "    </tr>\n",
       "    <tr>\n",
       "      <th>2</th>\n",
       "      <td>1.605691e+09</td>\n",
       "      <td>2</td>\n",
       "      <td>-346.818329</td>\n",
       "      <td>horizon30</td>\n",
       "    </tr>\n",
       "    <tr>\n",
       "      <th>3</th>\n",
       "      <td>1.605692e+09</td>\n",
       "      <td>3</td>\n",
       "      <td>-354.634064</td>\n",
       "      <td>horizon30</td>\n",
       "    </tr>\n",
       "    <tr>\n",
       "      <th>4</th>\n",
       "      <td>1.605692e+09</td>\n",
       "      <td>4</td>\n",
       "      <td>-365.126434</td>\n",
       "      <td>horizon30</td>\n",
       "    </tr>\n",
       "  </tbody>\n",
       "</table>\n",
       "</div>"
      ],
      "text/plain": [
       "      Wall time  Step       Value       Type\n",
       "0  1.605690e+09     0 -480.370026  horizon30\n",
       "1  1.605691e+09     1 -352.455231  horizon30\n",
       "2  1.605691e+09     2 -346.818329  horizon30\n",
       "3  1.605692e+09     3 -354.634064  horizon30\n",
       "4  1.605692e+09     4 -365.126434  horizon30"
      ]
     },
     "execution_count": 10,
     "metadata": {},
     "output_type": "execute_result"
    }
   ],
   "source": [
    "df_h30 = pd.read_csv(base_path/'run-reacher_horizon30-tag-Eval_AverageReturn.csv')\n",
    "df_h30['Type'] = 'horizon30'\n",
    "df_h30.head()"
   ]
  },
  {
   "cell_type": "code",
   "execution_count": 13,
   "metadata": {},
   "outputs": [
    {
     "data": {
      "text/html": [
       "<div>\n",
       "<style scoped>\n",
       "    .dataframe tbody tr th:only-of-type {\n",
       "        vertical-align: middle;\n",
       "    }\n",
       "\n",
       "    .dataframe tbody tr th {\n",
       "        vertical-align: top;\n",
       "    }\n",
       "\n",
       "    .dataframe thead th {\n",
       "        text-align: right;\n",
       "    }\n",
       "</style>\n",
       "<table border=\"1\" class=\"dataframe\">\n",
       "  <thead>\n",
       "    <tr style=\"text-align: right;\">\n",
       "      <th></th>\n",
       "      <th>Wall time</th>\n",
       "      <th>Step</th>\n",
       "      <th>Value</th>\n",
       "      <th>Type</th>\n",
       "    </tr>\n",
       "  </thead>\n",
       "  <tbody>\n",
       "    <tr>\n",
       "      <th>0</th>\n",
       "      <td>1.605679e+09</td>\n",
       "      <td>0</td>\n",
       "      <td>-466.865295</td>\n",
       "      <td>horizon5</td>\n",
       "    </tr>\n",
       "    <tr>\n",
       "      <th>1</th>\n",
       "      <td>1.605679e+09</td>\n",
       "      <td>1</td>\n",
       "      <td>-348.830200</td>\n",
       "      <td>horizon5</td>\n",
       "    </tr>\n",
       "    <tr>\n",
       "      <th>2</th>\n",
       "      <td>1.605680e+09</td>\n",
       "      <td>2</td>\n",
       "      <td>-267.821655</td>\n",
       "      <td>horizon5</td>\n",
       "    </tr>\n",
       "    <tr>\n",
       "      <th>3</th>\n",
       "      <td>1.605680e+09</td>\n",
       "      <td>3</td>\n",
       "      <td>-305.282104</td>\n",
       "      <td>horizon5</td>\n",
       "    </tr>\n",
       "    <tr>\n",
       "      <th>4</th>\n",
       "      <td>1.605680e+09</td>\n",
       "      <td>4</td>\n",
       "      <td>-306.790100</td>\n",
       "      <td>horizon5</td>\n",
       "    </tr>\n",
       "  </tbody>\n",
       "</table>\n",
       "</div>"
      ],
      "text/plain": [
       "      Wall time  Step       Value      Type\n",
       "0  1.605679e+09     0 -466.865295  horizon5\n",
       "1  1.605679e+09     1 -348.830200  horizon5\n",
       "2  1.605680e+09     2 -267.821655  horizon5\n",
       "3  1.605680e+09     3 -305.282104  horizon5\n",
       "4  1.605680e+09     4 -306.790100  horizon5"
      ]
     },
     "execution_count": 13,
     "metadata": {},
     "output_type": "execute_result"
    }
   ],
   "source": [
    "df = pd.concat([df_h5, df_h15, df_h30])\n",
    "df.head()"
   ]
  },
  {
   "cell_type": "code",
   "execution_count": 16,
   "metadata": {},
   "outputs": [
    {
     "data": {
      "text/plain": [
       "Text(0.5, 1.0, 'horizon')"
      ]
     },
     "execution_count": 16,
     "metadata": {},
     "output_type": "execute_result"
    },
    {
     "data": {
      "image/png": "[encoded data removed]",
      "text/plain": [
       "<Figure size 432x288 with 1 Axes>"
      ]
     },
     "metadata": {
      "needs_background": "light"
     },
     "output_type": "display_data"
    }
   ],
   "source": [
    "ax = sns.lineplot(x='Step', y='Value', hue='Type', data=df)\n",
    "ax.set_title('horizon')"
   ]
  },
  {
   "cell_type": "code",
   "execution_count": null,
   "metadata": {},
   "outputs": [],
   "source": []
  },
  {
   "cell_type": "code",
   "execution_count": 17,
   "metadata": {},
   "outputs": [
    {
     "data": {
      "text/html": [
       "<div>\n",
       "<style scoped>\n",
       "    .dataframe tbody tr th:only-of-type {\n",
       "        vertical-align: middle;\n",
       "    }\n",
       "\n",
       "    .dataframe tbody tr th {\n",
       "        vertical-align: top;\n",
       "    }\n",
       "\n",
       "    .dataframe thead th {\n",
       "        text-align: right;\n",
       "    }\n",
       "</style>\n",
       "<table border=\"1\" class=\"dataframe\">\n",
       "  <thead>\n",
       "    <tr style=\"text-align: right;\">\n",
       "      <th></th>\n",
       "      <th>Wall time</th>\n",
       "      <th>Step</th>\n",
       "      <th>Value</th>\n",
       "      <th>Type</th>\n",
       "    </tr>\n",
       "  </thead>\n",
       "  <tbody>\n",
       "    <tr>\n",
       "      <th>0</th>\n",
       "      <td>1.605703e+09</td>\n",
       "      <td>0</td>\n",
       "      <td>-396.845123</td>\n",
       "      <td>numseq100</td>\n",
       "    </tr>\n",
       "    <tr>\n",
       "      <th>1</th>\n",
       "      <td>1.605703e+09</td>\n",
       "      <td>1</td>\n",
       "      <td>-313.000488</td>\n",
       "      <td>numseq100</td>\n",
       "    </tr>\n",
       "    <tr>\n",
       "      <th>2</th>\n",
       "      <td>1.605703e+09</td>\n",
       "      <td>2</td>\n",
       "      <td>-377.101196</td>\n",
       "      <td>numseq100</td>\n",
       "    </tr>\n",
       "    <tr>\n",
       "      <th>3</th>\n",
       "      <td>1.605703e+09</td>\n",
       "      <td>3</td>\n",
       "      <td>-309.063263</td>\n",
       "      <td>numseq100</td>\n",
       "    </tr>\n",
       "    <tr>\n",
       "      <th>4</th>\n",
       "      <td>1.605704e+09</td>\n",
       "      <td>4</td>\n",
       "      <td>-314.672089</td>\n",
       "      <td>numseq100</td>\n",
       "    </tr>\n",
       "  </tbody>\n",
       "</table>\n",
       "</div>"
      ],
      "text/plain": [
       "      Wall time  Step       Value       Type\n",
       "0  1.605703e+09     0 -396.845123  numseq100\n",
       "1  1.605703e+09     1 -313.000488  numseq100\n",
       "2  1.605703e+09     2 -377.101196  numseq100\n",
       "3  1.605703e+09     3 -309.063263  numseq100\n",
       "4  1.605704e+09     4 -314.672089  numseq100"
      ]
     },
     "execution_count": 17,
     "metadata": {},
     "output_type": "execute_result"
    }
   ],
   "source": [
    "df_seq100 = pd.read_csv(base_path/'run-reacher_numseq100-tag-Eval_AverageReturn.csv')\n",
    "df_seq100['Type'] = 'numseq100'\n",
    "df_seq100.head()"
   ]
  },
  {
   "cell_type": "code",
   "execution_count": 18,
   "metadata": {},
   "outputs": [
    {
     "data": {
      "text/html": [
       "<div>\n",
       "<style scoped>\n",
       "    .dataframe tbody tr th:only-of-type {\n",
       "        vertical-align: middle;\n",
       "    }\n",
       "\n",
       "    .dataframe tbody tr th {\n",
       "        vertical-align: top;\n",
       "    }\n",
       "\n",
       "    .dataframe thead th {\n",
       "        text-align: right;\n",
       "    }\n",
       "</style>\n",
       "<table border=\"1\" class=\"dataframe\">\n",
       "  <thead>\n",
       "    <tr style=\"text-align: right;\">\n",
       "      <th></th>\n",
       "      <th>Wall time</th>\n",
       "      <th>Step</th>\n",
       "      <th>Value</th>\n",
       "      <th>Type</th>\n",
       "    </tr>\n",
       "  </thead>\n",
       "  <tbody>\n",
       "    <tr>\n",
       "      <th>0</th>\n",
       "      <td>1.605704e+09</td>\n",
       "      <td>0</td>\n",
       "      <td>-495.605835</td>\n",
       "      <td>numseq1000</td>\n",
       "    </tr>\n",
       "    <tr>\n",
       "      <th>1</th>\n",
       "      <td>1.605704e+09</td>\n",
       "      <td>1</td>\n",
       "      <td>-303.206665</td>\n",
       "      <td>numseq1000</td>\n",
       "    </tr>\n",
       "    <tr>\n",
       "      <th>2</th>\n",
       "      <td>1.605704e+09</td>\n",
       "      <td>2</td>\n",
       "      <td>-296.453247</td>\n",
       "      <td>numseq1000</td>\n",
       "    </tr>\n",
       "    <tr>\n",
       "      <th>3</th>\n",
       "      <td>1.605704e+09</td>\n",
       "      <td>3</td>\n",
       "      <td>-268.297394</td>\n",
       "      <td>numseq1000</td>\n",
       "    </tr>\n",
       "    <tr>\n",
       "      <th>4</th>\n",
       "      <td>1.605704e+09</td>\n",
       "      <td>4</td>\n",
       "      <td>-272.091766</td>\n",
       "      <td>numseq1000</td>\n",
       "    </tr>\n",
       "  </tbody>\n",
       "</table>\n",
       "</div>"
      ],
      "text/plain": [
       "      Wall time  Step       Value        Type\n",
       "0  1.605704e+09     0 -495.605835  numseq1000\n",
       "1  1.605704e+09     1 -303.206665  numseq1000\n",
       "2  1.605704e+09     2 -296.453247  numseq1000\n",
       "3  1.605704e+09     3 -268.297394  numseq1000\n",
       "4  1.605704e+09     4 -272.091766  numseq1000"
      ]
     },
     "execution_count": 18,
     "metadata": {},
     "output_type": "execute_result"
    }
   ],
   "source": [
    "df_seq1000 = pd.read_csv(base_path/'run-reacher_numseq1000-tag-Eval_AverageReturn.csv')\n",
    "df_seq1000['Type'] = 'numseq1000'\n",
    "df_seq1000.head()"
   ]
  },
  {
   "cell_type": "code",
   "execution_count": 19,
   "metadata": {},
   "outputs": [
    {
     "data": {
      "text/html": [
       "<div>\n",
       "<style scoped>\n",
       "    .dataframe tbody tr th:only-of-type {\n",
       "        vertical-align: middle;\n",
       "    }\n",
       "\n",
       "    .dataframe tbody tr th {\n",
       "        vertical-align: top;\n",
       "    }\n",
       "\n",
       "    .dataframe thead th {\n",
       "        text-align: right;\n",
       "    }\n",
       "</style>\n",
       "<table border=\"1\" class=\"dataframe\">\n",
       "  <thead>\n",
       "    <tr style=\"text-align: right;\">\n",
       "      <th></th>\n",
       "      <th>Wall time</th>\n",
       "      <th>Step</th>\n",
       "      <th>Value</th>\n",
       "      <th>Type</th>\n",
       "    </tr>\n",
       "  </thead>\n",
       "  <tbody>\n",
       "    <tr>\n",
       "      <th>0</th>\n",
       "      <td>1.605703e+09</td>\n",
       "      <td>0</td>\n",
       "      <td>-396.845123</td>\n",
       "      <td>numseq100</td>\n",
       "    </tr>\n",
       "    <tr>\n",
       "      <th>1</th>\n",
       "      <td>1.605703e+09</td>\n",
       "      <td>1</td>\n",
       "      <td>-313.000488</td>\n",
       "      <td>numseq100</td>\n",
       "    </tr>\n",
       "    <tr>\n",
       "      <th>2</th>\n",
       "      <td>1.605703e+09</td>\n",
       "      <td>2</td>\n",
       "      <td>-377.101196</td>\n",
       "      <td>numseq100</td>\n",
       "    </tr>\n",
       "    <tr>\n",
       "      <th>3</th>\n",
       "      <td>1.605703e+09</td>\n",
       "      <td>3</td>\n",
       "      <td>-309.063263</td>\n",
       "      <td>numseq100</td>\n",
       "    </tr>\n",
       "    <tr>\n",
       "      <th>4</th>\n",
       "      <td>1.605704e+09</td>\n",
       "      <td>4</td>\n",
       "      <td>-314.672089</td>\n",
       "      <td>numseq100</td>\n",
       "    </tr>\n",
       "  </tbody>\n",
       "</table>\n",
       "</div>"
      ],
      "text/plain": [
       "      Wall time  Step       Value       Type\n",
       "0  1.605703e+09     0 -396.845123  numseq100\n",
       "1  1.605703e+09     1 -313.000488  numseq100\n",
       "2  1.605703e+09     2 -377.101196  numseq100\n",
       "3  1.605703e+09     3 -309.063263  numseq100\n",
       "4  1.605704e+09     4 -314.672089  numseq100"
      ]
     },
     "execution_count": 19,
     "metadata": {},
     "output_type": "execute_result"
    }
   ],
   "source": [
    "df = pd.concat([df_seq100, df_seq1000])\n",
    "df.head()"
   ]
  },
  {
   "cell_type": "code",
   "execution_count": 20,
   "metadata": {},
   "outputs": [
    {
     "data": {
      "text/plain": [
       "Text(0.5, 1.0, 'numseq')"
      ]
     },
     "execution_count": 20,
     "metadata": {},
     "output_type": "execute_result"
    },
    {
     "data": {
      "image/png": "[encoded data removed]",
      "text/plain": [
       "<Figure size 432x288 with 1 Axes>"
      ]
     },
     "metadata": {
      "needs_background": "light"
     },
     "output_type": "display_data"
    }
   ],
   "source": [
    "ax = sns.lineplot(x='Step', y='Value', hue='Type', data=df)\n",
    "ax.set_title('numseq')"
   ]
  },
  {
   "cell_type": "code",
   "execution_count": null,
   "metadata": {},
   "outputs": [],
   "source": []
  },
  {
   "cell_type": "code",
   "execution_count": 3,
   "metadata": {},
   "outputs": [
    {
     "data": {
      "text/html": [
       "<div>\n",
       "<style scoped>\n",
       "    .dataframe tbody tr th:only-of-type {\n",
       "        vertical-align: middle;\n",
       "    }\n",
       "\n",
       "    .dataframe tbody tr th {\n",
       "        vertical-align: top;\n",
       "    }\n",
       "\n",
       "    .dataframe thead th {\n",
       "        text-align: right;\n",
       "    }\n",
       "</style>\n",
       "<table border=\"1\" class=\"dataframe\">\n",
       "  <thead>\n",
       "    <tr style=\"text-align: right;\">\n",
       "      <th></th>\n",
       "      <th>Wall time</th>\n",
       "      <th>Step</th>\n",
       "      <th>Value</th>\n",
       "      <th>Type</th>\n",
       "    </tr>\n",
       "  </thead>\n",
       "  <tbody>\n",
       "    <tr>\n",
       "      <th>0</th>\n",
       "      <td>1.605704e+09</td>\n",
       "      <td>0</td>\n",
       "      <td>-433.476532</td>\n",
       "      <td>ensemble1</td>\n",
       "    </tr>\n",
       "    <tr>\n",
       "      <th>1</th>\n",
       "      <td>1.605704e+09</td>\n",
       "      <td>1</td>\n",
       "      <td>-370.451691</td>\n",
       "      <td>ensemble1</td>\n",
       "    </tr>\n",
       "    <tr>\n",
       "      <th>2</th>\n",
       "      <td>1.605704e+09</td>\n",
       "      <td>2</td>\n",
       "      <td>-315.022430</td>\n",
       "      <td>ensemble1</td>\n",
       "    </tr>\n",
       "    <tr>\n",
       "      <th>3</th>\n",
       "      <td>1.605704e+09</td>\n",
       "      <td>3</td>\n",
       "      <td>-299.453552</td>\n",
       "      <td>ensemble1</td>\n",
       "    </tr>\n",
       "    <tr>\n",
       "      <th>4</th>\n",
       "      <td>1.605704e+09</td>\n",
       "      <td>4</td>\n",
       "      <td>-249.673492</td>\n",
       "      <td>ensemble1</td>\n",
       "    </tr>\n",
       "  </tbody>\n",
       "</table>\n",
       "</div>"
      ],
      "text/plain": [
       "      Wall time  Step       Value       Type\n",
       "0  1.605704e+09     0 -433.476532  ensemble1\n",
       "1  1.605704e+09     1 -370.451691  ensemble1\n",
       "2  1.605704e+09     2 -315.022430  ensemble1\n",
       "3  1.605704e+09     3 -299.453552  ensemble1\n",
       "4  1.605704e+09     4 -249.673492  ensemble1"
      ]
     },
     "execution_count": 3,
     "metadata": {},
     "output_type": "execute_result"
    }
   ],
   "source": [
    "df_e1 = pd.read_csv(base_path/'run-reacher_ensemble1-tag-Eval_AverageReturn.csv')\n",
    "df_e1['Type'] = 'ensemble1'\n",
    "df_e1.head()"
   ]
  },
  {
   "cell_type": "code",
   "execution_count": null,
   "metadata": {},
   "outputs": [],
   "source": []
  },
  {
   "cell_type": "code",
   "execution_count": 4,
   "metadata": {},
   "outputs": [
    {
     "data": {
      "text/html": [
       "<div>\n",
       "<style scoped>\n",
       "    .dataframe tbody tr th:only-of-type {\n",
       "        vertical-align: middle;\n",
       "    }\n",
       "\n",
       "    .dataframe tbody tr th {\n",
       "        vertical-align: top;\n",
       "    }\n",
       "\n",
       "    .dataframe thead th {\n",
       "        text-align: right;\n",
       "    }\n",
       "</style>\n",
       "<table border=\"1\" class=\"dataframe\">\n",
       "  <thead>\n",
       "    <tr style=\"text-align: right;\">\n",
       "      <th></th>\n",
       "      <th>Wall time</th>\n",
       "      <th>Step</th>\n",
       "      <th>Value</th>\n",
       "      <th>Type</th>\n",
       "    </tr>\n",
       "  </thead>\n",
       "  <tbody>\n",
       "    <tr>\n",
       "      <th>0</th>\n",
       "      <td>1.605709e+09</td>\n",
       "      <td>0</td>\n",
       "      <td>-495.605835</td>\n",
       "      <td>ensemble3</td>\n",
       "    </tr>\n",
       "    <tr>\n",
       "      <th>1</th>\n",
       "      <td>1.605709e+09</td>\n",
       "      <td>1</td>\n",
       "      <td>-303.206665</td>\n",
       "      <td>ensemble3</td>\n",
       "    </tr>\n",
       "    <tr>\n",
       "      <th>2</th>\n",
       "      <td>1.605709e+09</td>\n",
       "      <td>2</td>\n",
       "      <td>-296.453247</td>\n",
       "      <td>ensemble3</td>\n",
       "    </tr>\n",
       "    <tr>\n",
       "      <th>3</th>\n",
       "      <td>1.605709e+09</td>\n",
       "      <td>3</td>\n",
       "      <td>-268.297394</td>\n",
       "      <td>ensemble3</td>\n",
       "    </tr>\n",
       "    <tr>\n",
       "      <th>4</th>\n",
       "      <td>1.605710e+09</td>\n",
       "      <td>4</td>\n",
       "      <td>-272.091766</td>\n",
       "      <td>ensemble3</td>\n",
       "    </tr>\n",
       "  </tbody>\n",
       "</table>\n",
       "</div>"
      ],
      "text/plain": [
       "      Wall time  Step       Value       Type\n",
       "0  1.605709e+09     0 -495.605835  ensemble3\n",
       "1  1.605709e+09     1 -303.206665  ensemble3\n",
       "2  1.605709e+09     2 -296.453247  ensemble3\n",
       "3  1.605709e+09     3 -268.297394  ensemble3\n",
       "4  1.605710e+09     4 -272.091766  ensemble3"
      ]
     },
     "execution_count": 4,
     "metadata": {},
     "output_type": "execute_result"
    }
   ],
   "source": [
    "df_e3 = pd.read_csv(base_path/'run-reacher_ensemble3-tag-Eval_AverageReturn.csv')\n",
    "df_e3['Type'] = 'ensemble3'\n",
    "df_e3.head()"
   ]
  },
  {
   "cell_type": "code",
   "execution_count": null,
   "metadata": {},
   "outputs": [],
   "source": []
  },
  {
   "cell_type": "code",
   "execution_count": 6,
   "metadata": {},
   "outputs": [
    {
     "data": {
      "text/html": [
       "<div>\n",
       "<style scoped>\n",
       "    .dataframe tbody tr th:only-of-type {\n",
       "        vertical-align: middle;\n",
       "    }\n",
       "\n",
       "    .dataframe tbody tr th {\n",
       "        vertical-align: top;\n",
       "    }\n",
       "\n",
       "    .dataframe thead th {\n",
       "        text-align: right;\n",
       "    }\n",
       "</style>\n",
       "<table border=\"1\" class=\"dataframe\">\n",
       "  <thead>\n",
       "    <tr style=\"text-align: right;\">\n",
       "      <th></th>\n",
       "      <th>Wall time</th>\n",
       "      <th>Step</th>\n",
       "      <th>Value</th>\n",
       "      <th>Type</th>\n",
       "    </tr>\n",
       "  </thead>\n",
       "  <tbody>\n",
       "    <tr>\n",
       "      <th>0</th>\n",
       "      <td>1.605709e+09</td>\n",
       "      <td>0</td>\n",
       "      <td>-337.942688</td>\n",
       "      <td>ensemble5</td>\n",
       "    </tr>\n",
       "    <tr>\n",
       "      <th>1</th>\n",
       "      <td>1.605709e+09</td>\n",
       "      <td>1</td>\n",
       "      <td>-352.291199</td>\n",
       "      <td>ensemble5</td>\n",
       "    </tr>\n",
       "    <tr>\n",
       "      <th>2</th>\n",
       "      <td>1.605710e+09</td>\n",
       "      <td>2</td>\n",
       "      <td>-295.289154</td>\n",
       "      <td>ensemble5</td>\n",
       "    </tr>\n",
       "    <tr>\n",
       "      <th>3</th>\n",
       "      <td>1.605710e+09</td>\n",
       "      <td>3</td>\n",
       "      <td>-276.967468</td>\n",
       "      <td>ensemble5</td>\n",
       "    </tr>\n",
       "    <tr>\n",
       "      <th>4</th>\n",
       "      <td>1.605710e+09</td>\n",
       "      <td>4</td>\n",
       "      <td>-274.572937</td>\n",
       "      <td>ensemble5</td>\n",
       "    </tr>\n",
       "  </tbody>\n",
       "</table>\n",
       "</div>"
      ],
      "text/plain": [
       "      Wall time  Step       Value       Type\n",
       "0  1.605709e+09     0 -337.942688  ensemble5\n",
       "1  1.605709e+09     1 -352.291199  ensemble5\n",
       "2  1.605710e+09     2 -295.289154  ensemble5\n",
       "3  1.605710e+09     3 -276.967468  ensemble5\n",
       "4  1.605710e+09     4 -274.572937  ensemble5"
      ]
     },
     "execution_count": 6,
     "metadata": {},
     "output_type": "execute_result"
    }
   ],
   "source": [
    "df_e5 = pd.read_csv(base_path/'run-reacher_ensemble5-tag-Eval_AverageReturn.csv')\n",
    "df_e5['Type'] = 'ensemble5'\n",
    "df_e5.head()"
   ]
  },
  {
   "cell_type": "code",
   "execution_count": null,
   "metadata": {},
   "outputs": [],
   "source": []
  },
  {
   "cell_type": "code",
   "execution_count": 7,
   "metadata": {},
   "outputs": [
    {
     "data": {
      "text/html": [
       "<div>\n",
       "<style scoped>\n",
       "    .dataframe tbody tr th:only-of-type {\n",
       "        vertical-align: middle;\n",
       "    }\n",
       "\n",
       "    .dataframe tbody tr th {\n",
       "        vertical-align: top;\n",
       "    }\n",
       "\n",
       "    .dataframe thead th {\n",
       "        text-align: right;\n",
       "    }\n",
       "</style>\n",
       "<table border=\"1\" class=\"dataframe\">\n",
       "  <thead>\n",
       "    <tr style=\"text-align: right;\">\n",
       "      <th></th>\n",
       "      <th>Wall time</th>\n",
       "      <th>Step</th>\n",
       "      <th>Value</th>\n",
       "      <th>Type</th>\n",
       "    </tr>\n",
       "  </thead>\n",
       "  <tbody>\n",
       "    <tr>\n",
       "      <th>0</th>\n",
       "      <td>1.605704e+09</td>\n",
       "      <td>0</td>\n",
       "      <td>-433.476532</td>\n",
       "      <td>ensemble1</td>\n",
       "    </tr>\n",
       "    <tr>\n",
       "      <th>1</th>\n",
       "      <td>1.605704e+09</td>\n",
       "      <td>1</td>\n",
       "      <td>-370.451691</td>\n",
       "      <td>ensemble1</td>\n",
       "    </tr>\n",
       "    <tr>\n",
       "      <th>2</th>\n",
       "      <td>1.605704e+09</td>\n",
       "      <td>2</td>\n",
       "      <td>-315.022430</td>\n",
       "      <td>ensemble1</td>\n",
       "    </tr>\n",
       "    <tr>\n",
       "      <th>3</th>\n",
       "      <td>1.605704e+09</td>\n",
       "      <td>3</td>\n",
       "      <td>-299.453552</td>\n",
       "      <td>ensemble1</td>\n",
       "    </tr>\n",
       "    <tr>\n",
       "      <th>4</th>\n",
       "      <td>1.605704e+09</td>\n",
       "      <td>4</td>\n",
       "      <td>-249.673492</td>\n",
       "      <td>ensemble1</td>\n",
       "    </tr>\n",
       "  </tbody>\n",
       "</table>\n",
       "</div>"
      ],
      "text/plain": [
       "      Wall time  Step       Value       Type\n",
       "0  1.605704e+09     0 -433.476532  ensemble1\n",
       "1  1.605704e+09     1 -370.451691  ensemble1\n",
       "2  1.605704e+09     2 -315.022430  ensemble1\n",
       "3  1.605704e+09     3 -299.453552  ensemble1\n",
       "4  1.605704e+09     4 -249.673492  ensemble1"
      ]
     },
     "execution_count": 7,
     "metadata": {},
     "output_type": "execute_result"
    }
   ],
   "source": [
    "df = pd.concat([df_e1, df_e3, df_e5])\n",
    "df.head()"
   ]
  },
  {
   "cell_type": "code",
   "execution_count": 8,
   "metadata": {},
   "outputs": [
    {
     "data": {
      "text/plain": [
       "Text(0.5, 1.0, 'ensemble')"
      ]
     },
     "execution_count": 8,
     "metadata": {},
     "output_type": "execute_result"
    },
    {
     "data": {
      "image/png": "[encoded data removed]",
      "text/plain": [
       "<Figure size 432x288 with 1 Axes>"
      ]
     },
     "metadata": {
      "needs_background": "light"
     },
     "output_type": "display_data"
    }
   ],
   "source": [
    "ax = sns.lineplot(x='Step', y='Value', hue='Type', data=df)\n",
    "ax.set_title('ensemble')"
   ]
  },
  {
   "cell_type": "code",
   "execution_count": null,
   "metadata": {},
   "outputs": [],
   "source": []
  },
  {
   "cell_type": "code",
   "execution_count": null,
   "metadata": {},
   "outputs": [],
   "source": []
  },
  {
   "cell_type": "code",
   "execution_count": null,
   "metadata": {},
   "outputs": [],
   "source": []
  },
  {
   "cell_type": "code",
   "execution_count": null,
   "metadata": {},
   "outputs": [],
   "source": []
  },
  {
   "cell_type": "code",
   "execution_count": null,
   "metadata": {},
   "outputs": [],
   "source": []
  },
  {
   "cell_type": "code",
   "execution_count": null,
   "metadata": {},
   "outputs": [],
   "source": []
  }
 ],
 "metadata": {
  "kernelspec": {
   "display_name": "Python 3",
   "language": "python",
   "name": "python3"
  },
  "language_info": {
   "codemirror_mode": {
    "name": "ipython",
    "version": 3
   },
   "file_extension": ".py",
   "mimetype": "text/x-python",
   "name": "python",
   "nbconvert_exporter": "python",
   "pygments_lexer": "ipython3",
   "version": "3.8.3"
  }
 },
 "nbformat": 4,
 "nbformat_minor": 4
}
